{
 "cells": [
  {
   "cell_type": "code",
   "execution_count": 1,
   "metadata": {},
   "outputs": [],
   "source": [
    "def dalyba(a, b):\n",
    "    try:\n",
    "        res = a / b\n",
    "    except Exception as e:\n",
    "        print(e, e.__Class__)\n",
    "    else:\n",
    "        print(f\"dalyba: {a} / {b} = {res}\")\n",
    "        return res"
   ]
  },
  {
   "cell_type": "code",
   "execution_count": 2,
   "metadata": {},
   "outputs": [
    {
     "name": "stdout",
     "output_type": "stream",
     "text": [
      "dalyba: 7 / 3 = 2.3333333333333335\n"
     ]
    },
    {
     "data": {
      "text/plain": [
       "2.3333333333333335"
      ]
     },
     "execution_count": 2,
     "metadata": {},
     "output_type": "execute_result"
    }
   ],
   "source": [
    "dalyba(7, 3)"
   ]
  },
  {
   "cell_type": "code",
   "execution_count": 4,
   "metadata": {},
   "outputs": [
    {
     "ename": "ModuleNotFoundError",
     "evalue": "No module named 'modules'",
     "output_type": "error",
     "traceback": [
      "\u001b[1;31m---------------------------------------------------------------------------\u001b[0m",
      "\u001b[1;31mModuleNotFoundError\u001b[0m                       Traceback (most recent call last)",
      "Cell \u001b[1;32mIn [4], line 2\u001b[0m\n\u001b[0;32m      1\u001b[0m \u001b[38;5;28;01mimport\u001b[39;00m \u001b[38;5;21;01mlogging\u001b[39;00m\n\u001b[1;32m----> 2\u001b[0m \u001b[38;5;28;01mfrom\u001b[39;00m \u001b[38;5;21;01mmodules\u001b[39;00m\u001b[38;5;21;01m.\u001b[39;00m\u001b[38;5;21;01maritmetika\u001b[39;00m \u001b[38;5;28;01mimport\u001b[39;00m daugyba\n\u001b[0;32m      4\u001b[0m logging\u001b[38;5;241m.\u001b[39mbasicConfig(level\u001b[38;5;241m=\u001b[39mlogging\u001b[38;5;241m.\u001b[39mDEBUG)\n\u001b[0;32m      6\u001b[0m \u001b[38;5;28;01mdef\u001b[39;00m \u001b[38;5;21mdalyba\u001b[39m(a, b):\n",
      "\u001b[1;31mModuleNotFoundError\u001b[0m: No module named 'modules'"
     ]
    }
   ],
   "source": [
    "import logging\n",
    "from basicConfig(level=logging.DEBUG) \n",
    "\n",
    "logging.basicConfig(level=logging.DEBUG)\n",
    "\n",
    "def dalyba(a, b):\n",
    "    try:\n",
    "        res = a / b\n",
    "    except Exception as e:\n",
    "        logging.exception(str(e)+str(e.__Class__))\n",
    "    else:\n",
    "        logging.info(f\"dalyba: {a} / {b} = {res}\")\n",
    "        return res\n",
    "        \n",
    "print(daugyba(7, 0))\n",
    "print(daugyba(7, 3))\n",
    "print(daugyba(3, 5))"
   ]
  }
 ],
 "metadata": {
  "kernelspec": {
   "display_name": "Python 3.10.6 64-bit",
   "language": "python",
   "name": "python3"
  },
  "language_info": {
   "codemirror_mode": {
    "name": "ipython",
    "version": 3
   },
   "file_extension": ".py",
   "mimetype": "text/x-python",
   "name": "python",
   "nbconvert_exporter": "python",
   "pygments_lexer": "ipython3",
   "version": "3.10.6"
  },
  "orig_nbformat": 4,
  "vscode": {
   "interpreter": {
    "hash": "5fb0377b2c8a6b3f6623483a1b42746e58de8517a984634adb93d91a3fb3d49e"
   }
  }
 },
 "nbformat": 4,
 "nbformat_minor": 2
}
